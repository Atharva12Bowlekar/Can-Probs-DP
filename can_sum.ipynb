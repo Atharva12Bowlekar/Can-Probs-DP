{
 "cells": [
  {
   "cell_type": "code",
   "execution_count": 1,
   "id": "364631f0",
   "metadata": {},
   "outputs": [],
   "source": [
    "def can_sum(target, numbers):\n",
    "    if target == 0:\n",
    "        return True\n",
    "    if target < 0:\n",
    "        return False\n",
    "    for num in numbers:\n",
    "        rem = target - num\n",
    "        if (can_sum(rem, numbers)):\n",
    "            return True\n",
    "    return False"
   ]
  },
  {
   "cell_type": "code",
   "execution_count": 2,
   "id": "0c549b34",
   "metadata": {},
   "outputs": [
    {
     "data": {
      "text/plain": [
       "True"
      ]
     },
     "execution_count": 2,
     "metadata": {},
     "output_type": "execute_result"
    }
   ],
   "source": [
    "can_sum(7,[2,3])"
   ]
  },
  {
   "cell_type": "code",
   "execution_count": 3,
   "id": "6ba1ea45",
   "metadata": {},
   "outputs": [
    {
     "data": {
      "text/plain": [
       "False"
      ]
     },
     "execution_count": 3,
     "metadata": {},
     "output_type": "execute_result"
    }
   ],
   "source": [
    "can_sum(6,[4,5])"
   ]
  },
  {
   "cell_type": "code",
   "execution_count": 4,
   "id": "100c5d51",
   "metadata": {},
   "outputs": [
    {
     "data": {
      "text/plain": [
       "False"
      ]
     },
     "execution_count": 4,
     "metadata": {},
     "output_type": "execute_result"
    }
   ],
   "source": [
    "can_sum(300,[14,7])"
   ]
  },
  {
   "cell_type": "code",
   "execution_count": 5,
   "id": "5ecd011f",
   "metadata": {},
   "outputs": [],
   "source": [
    "def can_sum_memo(target, numbers, memo={}):\n",
    "    if target in memo:\n",
    "        return memo[target]\n",
    "    if target == 0:\n",
    "        return True\n",
    "    if target < 0:\n",
    "        return False\n",
    "    for num in numbers:\n",
    "        rem = target - num\n",
    "        if (can_sum_memo(rem, numbers, memo)):\n",
    "            memo[target] = True\n",
    "            return True\n",
    "    memo[target] = False\n",
    "    return False"
   ]
  },
  {
   "cell_type": "code",
   "execution_count": 6,
   "id": "fb306c9a",
   "metadata": {},
   "outputs": [
    {
     "data": {
      "text/plain": [
       "True"
      ]
     },
     "execution_count": 6,
     "metadata": {},
     "output_type": "execute_result"
    }
   ],
   "source": [
    "can_sum_memo(7,[2,3])"
   ]
  },
  {
   "cell_type": "code",
   "execution_count": 7,
   "id": "ac9ba611",
   "metadata": {},
   "outputs": [
    {
     "data": {
      "text/plain": [
       "False"
      ]
     },
     "execution_count": 7,
     "metadata": {},
     "output_type": "execute_result"
    }
   ],
   "source": [
    "can_sum_memo(6,[4,5])"
   ]
  },
  {
   "cell_type": "code",
   "execution_count": 8,
   "id": "6182fefb",
   "metadata": {},
   "outputs": [
    {
     "data": {
      "text/plain": [
       "False"
      ]
     },
     "execution_count": 8,
     "metadata": {},
     "output_type": "execute_result"
    }
   ],
   "source": [
    "can_sum_memo(300,[14,7])"
   ]
  },
  {
   "cell_type": "code",
   "execution_count": null,
   "id": "74ca8f28",
   "metadata": {},
   "outputs": [],
   "source": []
  }
 ],
 "metadata": {
  "kernelspec": {
   "display_name": "Python 3 (ipykernel)",
   "language": "python",
   "name": "python3"
  },
  "language_info": {
   "codemirror_mode": {
    "name": "ipython",
    "version": 3
   },
   "file_extension": ".py",
   "mimetype": "text/x-python",
   "name": "python",
   "nbconvert_exporter": "python",
   "pygments_lexer": "ipython3",
   "version": "3.9.12"
  }
 },
 "nbformat": 4,
 "nbformat_minor": 5
}
