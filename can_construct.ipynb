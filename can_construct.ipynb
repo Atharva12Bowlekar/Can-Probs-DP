{
 "cells": [
  {
   "cell_type": "code",
   "execution_count": 43,
   "id": "3a2da66b",
   "metadata": {},
   "outputs": [],
   "source": [
    "def can_construct(target, word_bank):\n",
    "    if target == \"\":\n",
    "        return True\n",
    "    for word in word_bank:\n",
    "        if target[:len(word)] == word:\n",
    "            sub_word = target[len(word):]\n",
    "            if can_construct(sub_word, word_bank):\n",
    "                return True\n",
    "    return False"
   ]
  },
  {
   "cell_type": "code",
   "execution_count": 10,
   "id": "98dba1d7",
   "metadata": {},
   "outputs": [
    {
     "data": {
      "text/plain": [
       "True"
      ]
     },
     "execution_count": 10,
     "metadata": {},
     "output_type": "execute_result"
    }
   ],
   "source": [
    "can_construct(\"abcdef\",[\"ab\",\"abc\",\"cd\",\"def\",\"abcd\"])"
   ]
  },
  {
   "cell_type": "code",
   "execution_count": 11,
   "id": "8d041d60",
   "metadata": {},
   "outputs": [
    {
     "data": {
      "text/plain": [
       "False"
      ]
     },
     "execution_count": 11,
     "metadata": {},
     "output_type": "execute_result"
    }
   ],
   "source": [
    "can_construct(\"skateboard\",[\"sk\",\"ska\",\"boar\",\"rd\",\"bo\",\"ate\",\"t\"])"
   ]
  },
  {
   "cell_type": "code",
   "execution_count": 12,
   "id": "cd0e1efc",
   "metadata": {},
   "outputs": [
    {
     "data": {
      "text/plain": [
       "True"
      ]
     },
     "execution_count": 12,
     "metadata": {},
     "output_type": "execute_result"
    }
   ],
   "source": [
    "can_construct(\"enterapotentpot\",[\"a\",\"p\",\"ent\",\"enter\",\"ot\",\"o\",\"t\"])"
   ]
  },
  {
   "cell_type": "code",
   "execution_count": 44,
   "id": "68253dc5",
   "metadata": {
    "scrolled": true
   },
   "outputs": [
    {
     "data": {
      "text/plain": [
       "False"
      ]
     },
     "execution_count": 44,
     "metadata": {},
     "output_type": "execute_result"
    }
   ],
   "source": [
    "can_construct(\"eeeeeeeeeeeeeeef\",[\"eee\",\"ee\",\"eeeeeee\",\"e\"])"
   ]
  },
  {
   "cell_type": "code",
   "execution_count": 8,
   "id": "ed7ea48b",
   "metadata": {},
   "outputs": [],
   "source": [
    "def can_construct_memo(target, word_bank, memo={}):\n",
    "    if target == \"\":\n",
    "        return True\n",
    "    if target in memo:\n",
    "        return memo[target]\n",
    "    for word in word_bank:\n",
    "        if target[:len(word)] == word:\n",
    "            sub_word = target[len(word):]\n",
    "            if can_construct_memo(sub_word, word_bank,memo):\n",
    "                memo[target] = True\n",
    "                return memo[target]\n",
    "    memo[target] = False\n",
    "    return memo[target]"
   ]
  },
  {
   "cell_type": "code",
   "execution_count": 2,
   "id": "8e4cc76d",
   "metadata": {},
   "outputs": [
    {
     "data": {
      "text/plain": [
       "True"
      ]
     },
     "execution_count": 2,
     "metadata": {},
     "output_type": "execute_result"
    }
   ],
   "source": [
    "can_construct_memo(\"abcdef\",[\"ab\",\"abc\",\"cd\",\"def\",\"abcd\"],{})"
   ]
  },
  {
   "cell_type": "code",
   "execution_count": 11,
   "id": "26dd7cb1",
   "metadata": {},
   "outputs": [
    {
     "data": {
      "text/plain": [
       "False"
      ]
     },
     "execution_count": 11,
     "metadata": {},
     "output_type": "execute_result"
    }
   ],
   "source": [
    "can_construct_memo(\"skateboard\",[\"sk\",\"ska\",\"boar\",\"rd\",\"bo\",\"ate\",\"t\"],{})"
   ]
  },
  {
   "cell_type": "code",
   "execution_count": 7,
   "id": "d36da624",
   "metadata": {},
   "outputs": [
    {
     "data": {
      "text/plain": [
       "True"
      ]
     },
     "execution_count": 7,
     "metadata": {},
     "output_type": "execute_result"
    }
   ],
   "source": [
    "can_construct_memo(\"enterapotentpot\",[\"a\",\"p\",\"ent\",\"enter\",\"ot\",\"o\",\"t\"],{})"
   ]
  },
  {
   "cell_type": "code",
   "execution_count": 9,
   "id": "af16b7e8",
   "metadata": {
    "scrolled": true
   },
   "outputs": [
    {
     "data": {
      "text/plain": [
       "False"
      ]
     },
     "execution_count": 9,
     "metadata": {},
     "output_type": "execute_result"
    }
   ],
   "source": [
    "can_construct_memo(\"eeeeeeeeeeeeeeef\",[\"eee\",\"ee\",\"eeeeeee\",\"e\"])"
   ]
  },
  {
   "cell_type": "code",
   "execution_count": null,
   "id": "9f170cc4",
   "metadata": {},
   "outputs": [],
   "source": []
  }
 ],
 "metadata": {
  "kernelspec": {
   "display_name": "Python 3 (ipykernel)",
   "language": "python",
   "name": "python3"
  },
  "language_info": {
   "codemirror_mode": {
    "name": "ipython",
    "version": 3
   },
   "file_extension": ".py",
   "mimetype": "text/x-python",
   "name": "python",
   "nbconvert_exporter": "python",
   "pygments_lexer": "ipython3",
   "version": "3.9.12"
  }
 },
 "nbformat": 4,
 "nbformat_minor": 5
}
